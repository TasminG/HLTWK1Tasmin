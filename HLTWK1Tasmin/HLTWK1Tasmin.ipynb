{
 "metadata": {
  "language_info": {
   "codemirror_mode": {
    "name": "ipython",
    "version": 3
   },
   "file_extension": ".py",
   "mimetype": "text/x-python",
   "name": "python",
   "nbconvert_exporter": "python",
   "pygments_lexer": "ipython3",
   "version": "3.9.5"
  },
  "orig_nbformat": 4,
  "kernelspec": {
   "name": "python3",
   "display_name": "Python 3.9.5 64-bit"
  },
  "interpreter": {
   "hash": "c958e67581bf5013e79959b0fec4eed6d80993cf9b82d7c6eef8fa484b7cf595"
  }
 },
 "nbformat": 4,
 "nbformat_minor": 2,
 "cells": [
  {
   "cell_type": "code",
   "execution_count": 11,
   "metadata": {},
   "outputs": [
    {
     "output_type": "stream",
     "name": "stdout",
     "text": [
      "well, Sharan I am thinking of a number between 1 and 10.\n",
      "Wrong, better luck next time\n"
     ]
    }
   ],
   "source": [
    "import random \n",
    "myName = input(\"Hello! What is your name?\")\n",
    "\n",
    "number = random.randint(1,10)\n",
    "\n",
    "print(\"well, \" +myName + \" I am thinking of a number between 1 and 10.\")\n",
    "\n",
    "guess = int(input(\"Take a guess\"))\n",
    "\n",
    "if guess == number:\n",
    "    print(\"Good job,\" + myName + \"You guessed my number!\")\n",
    "\n",
    "Else: print(\"Wrong, better luck next time\")"
   ]
  },
  {
   "cell_type": "code",
   "execution_count": 10,
   "metadata": {},
   "outputs": [
    {
     "output_type": "stream",
     "name": "stdout",
     "text": [
      "Hey Taz! What's your favourite number between 1 and 100?\n",
      "You guessed correct!\n"
     ]
    }
   ],
   "source": [
    "import random \n",
    "numbers = random.randint(1,100)\n",
    "\n",
    "number7 = (7)\n",
    "number80 = (80)\n",
    "number22 =(22)\n",
    "\n",
    "print(\"Hey \" + myName + \"! What's your favourite number between 1 and 100?\")\n",
    "\n",
    "guess = input()\n",
    "a = int(guess)\n",
    "\n",
    "if a == number7:\n",
    "    print(\"Why is 7 the most feared number? Because seven ate Nine (7, '8,' 9)\")\n",
    "\n",
    "elif a == number80:\n",
    "    print(\"Did you hear what 0 said to 8? Nice Belt!\")\n",
    "\n",
    "elif a == numbers:\n",
    "    print(\"The local pie shop almost never closes. It’s 22/7!\")\n",
    "\n",
    "else:\n",
    "    print(\"You guessed correct!\")\n"
   ]
  },
  {
   "cell_type": "code",
   "execution_count": 6,
   "metadata": {},
   "outputs": [
    {
     "output_type": "stream",
     "name": "stdout",
     "text": [
      "Hello Taz! Lets talk food!\n",
      "Mmmm Nice!\n",
      "Tasty!\n",
      "Well, your gonna need something the wash it down with!\n"
     ]
    }
   ],
   "source": [
    "print(\"Hello \" + myName + \"! Lets talk food!\")\n",
    "\n",
    "starter = (input(\"What's your favourite starter?\"))\n",
    "\n",
    "print(\"Mmmm Nice!\")\n",
    "\n",
    "MainCourse = (input(\"What about your favourtie main course?\"))\n",
    "\n",
    "print(\"Tasty!\")\n",
    "\n",
    "Dessert = (input(\"Now, What is your favourite dessert?\"))\n",
    "\n",
    "print(\"Well, your gonna need something the wash it down with!\")\n",
    "\n",
    "drink = (input(\"What's your favourite drink?\"))\n",
    "\n",
    "print(\"Your favourite meal is\" + MainCourse + \"with a glass of\" + drink + \".\")\n",
    "\n"
   ]
  },
  {
   "cell_type": "code",
   "execution_count": 2,
   "metadata": {},
   "outputs": [
    {
     "output_type": "stream",
     "name": "stdout",
     "text": [
      "£ 2000\n£ 1800.0\n£ 1620.0\n£ 1458.0\n£ 1312.2\n£ 1180.98\n£ 1062.882\n"
     ]
    }
   ],
   "source": [
    "price = 2000\n",
    "\n",
    "while price > 1000:\n",
    "    print (\"£\", price)\n",
    "    price = price * 0.9"
   ]
  },
  {
   "cell_type": "code",
   "execution_count": 3,
   "metadata": {},
   "outputs": [
    {
     "output_type": "stream",
     "name": "stdout",
     "text": [
      "Hey Lets do a calculation!\n",
      "Now how shall we calculate these numbers?\n",
      "4\n"
     ]
    }
   ],
   "source": [
    "print (\"Hey Lets do a calculation!\")\n",
    "\n",
    "\n",
    "num1 = int(input(\"What is your first number?\"))\n",
    "num2 = int(input(\"What is your second number?\"))\n",
    "\n",
    "print (\"Now how shall we calculate these numbers?\")\n",
    "\n",
    "cal = input(\"type + for add - for subtract * for multiply / for division\")\n",
    "\n",
    "if cal == \"+\":\n",
    "    print(num1 + num2)\n",
    "\n",
    "elif cal == \"-\":\n",
    "    print(num1 - num2)\n",
    "\n",
    "elif cal == \"*\":\n",
    "    print(num1 + num2)\n",
    "\n",
    "elif cal == \"/\":\n",
    "    print(num1 / num2)\n",
    "\n",
    "else:\n",
    "    print (\"Oh no! Looks like you didn't type in a correct calculation value. The calculation didn't work. Please try again.\")"
   ]
  },
  {
   "cell_type": "code",
   "execution_count": null,
   "metadata": {},
   "outputs": [],
   "source": []
  }
 ]
}